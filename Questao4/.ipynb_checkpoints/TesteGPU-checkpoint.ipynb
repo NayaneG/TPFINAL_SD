{
 "cells": [
  {
   "cell_type": "code",
   "execution_count": 14,
   "metadata": {},
   "outputs": [],
   "source": [
    "from numba import njit\n",
    "import numpy as np\n",
    "from math import sqrt\n",
    "import easydict\n",
    "import argparse\n",
    "import time\n",
    "from statistics import mean"
   ]
  },
  {
   "cell_type": "code",
   "execution_count": 15,
   "metadata": {},
   "outputs": [],
   "source": [
    "size_1000 = []\n",
    "size_10000 = []\n",
    "size_100000 = []\n",
    "size_1000000 = []\n",
    "media = []"
   ]
  },
  {
   "cell_type": "code",
   "execution_count": 16,
   "metadata": {},
   "outputs": [],
   "source": [
    "args = easydict.EasyDict({\n",
    "    \"batch_size\": 100,\n",
    "    \"train_steps\": 1000\n",
    "})"
   ]
  },
  {
   "cell_type": "code",
   "execution_count": 17,
   "metadata": {},
   "outputs": [],
   "source": [
    "@njit\n",
    "def kmeans(A, numCenter, numIter, N, D, init_centroids):\n",
    "    centroids = init_centroids\n",
    "\n",
    "    for l in range(numIter):\n",
    "        dist = np.array([[sqrt(np.sum((A[i,:]-centroids[j,:])**2))\n",
    "                                for j in range(numCenter)] for i in range(N)])\n",
    "        labels = np.array([dist[i,:].argmin() for i in range(N)])\n",
    "\n",
    "        centroids = np.array([[np.sum(A[labels==i, j])/np.sum(labels==i)\n",
    "                                 for j in range(D)] for i in range(numCenter)])\n",
    "\n",
    "    return centroids"
   ]
  },
  {
   "cell_type": "code",
   "execution_count": 18,
   "metadata": {},
   "outputs": [],
   "source": [
    "def rodando():\n",
    "    np.random.seed(0)\n",
    "    init_centroids = np.random.ranf((centers, features))\n",
    "    kmeans(np.random.ranf((3000, features)), centers, 1, 3000, features, init_centroids)\n",
    "    #print(\"size:\", size)\n",
    "    A = np.random.ranf((size, features))\n",
    "\n",
    "    t1 = time.time()\n",
    "    res = kmeans(A, centers, iterations, size, features, init_centroids)\n",
    "    #print(res)\n",
    "    t = time.time()-t1\n",
    "    return t"
   ]
  },
  {
   "cell_type": "markdown",
   "metadata": {},
   "source": [
    "------------**Size = 1000**------------"
   ]
  },
  {
   "cell_type": "code",
   "execution_count": 19,
   "metadata": {},
   "outputs": [
    {
     "name": "stdout",
     "output_type": "stream",
     "text": [
      "0.06517434120178223\n",
      "0.06718015670776367\n",
      "0.06316876411437988\n",
      "0.06417155265808105\n",
      "0.06316876411437988\n",
      "0.06417155265808105\n",
      "0.0652008056640625\n",
      "0.06417179107666016\n",
      "0.06417179107666016\n",
      "0.06316900253295898\n"
     ]
    }
   ],
   "source": [
    "size = 1000\n",
    "features = 2\n",
    "centers = 5\n",
    "iterations = 100\n",
    "for i in range(10):\n",
    "    rodada = rodando()\n",
    "    print(rodada)\n",
    "    size_1000.append(rodada)"
   ]
  },
  {
   "cell_type": "markdown",
   "metadata": {},
   "source": [
    "------------**Size = 10000**------------"
   ]
  },
  {
   "cell_type": "code",
   "execution_count": 20,
   "metadata": {},
   "outputs": [
    {
     "name": "stdout",
     "output_type": "stream",
     "text": [
      "0.6577577590942383\n",
      "0.6597623825073242\n",
      "0.6577584743499756\n",
      "0.683826208114624\n",
      "0.6908433437347412\n",
      "0.6848573684692383\n",
      "0.6497082710266113\n",
      "0.6597428321838379\n",
      "0.6527450084686279\n"
     ]
    }
   ],
   "source": [
    "size = 10000\n",
    "features = 2\n",
    "centers = 5\n",
    "iterations = 100\n",
    "for i in range(9):\n",
    "    rodada = rodando()\n",
    "    print(rodada)\n",
    "    size_10000.append(rodada)"
   ]
  },
  {
   "cell_type": "markdown",
   "metadata": {},
   "source": [
    "------------**Size = 10000**------------"
   ]
  },
  {
   "cell_type": "code",
   "execution_count": 21,
   "metadata": {},
   "outputs": [
    {
     "name": "stdout",
     "output_type": "stream",
     "text": [
      "6.570561647415161\n",
      "6.587609052658081\n",
      "6.558530330657959\n",
      "6.606659889221191\n",
      "6.606686353683472\n",
      "6.596657991409302\n",
      "6.568552017211914\n",
      "6.5565245151519775\n",
      "6.614655494689941\n"
     ]
    }
   ],
   "source": [
    "size = 100000\n",
    "features = 2\n",
    "centers = 5\n",
    "iterations = 100\n",
    "for i in range(9):\n",
    "    rodada = rodando()\n",
    "    print(rodada)\n",
    "    size_100000.append(rodada)"
   ]
  },
  {
   "cell_type": "markdown",
   "metadata": {},
   "source": [
    "------------**Size = 10000**------------"
   ]
  },
  {
   "cell_type": "code",
   "execution_count": 22,
   "metadata": {},
   "outputs": [
    {
     "name": "stdout",
     "output_type": "stream",
     "text": [
      "68.21983981132507\n",
      "68.35387587547302\n",
      "67.48236918449402\n",
      "67.76253485679626\n",
      "77.9441590309143\n",
      "74.23373293876648\n",
      "79.04691123962402\n",
      "72.21170115470886\n",
      "73.02748203277588\n"
     ]
    }
   ],
   "source": [
    "size = 1000000\n",
    "features = 2\n",
    "centers = 5\n",
    "iterations = 100\n",
    "for i in range(9):\n",
    "    rodada = rodando()\n",
    "    print(rodada)\n",
    "    size_1000000.append(rodada)"
   ]
  },
  {
   "cell_type": "code",
   "execution_count": 23,
   "metadata": {},
   "outputs": [
    {
     "name": "stdout",
     "output_type": "stream",
     "text": [
      "Média1: 0.06437485\n"
     ]
    }
   ],
   "source": [
    "result = np.mean(size_1000, dtype=np.float32 )\n",
    "media.append(result)\n",
    "print('Média1:',result)"
   ]
  },
  {
   "cell_type": "code",
   "execution_count": 24,
   "metadata": {},
   "outputs": [
    {
     "name": "stdout",
     "output_type": "stream",
     "text": [
      "Média1: 0.6663335\n"
     ]
    }
   ],
   "source": [
    "result = np.mean(size_10000, dtype=np.float32 )\n",
    "media.append(result)\n",
    "print('Média1:',result)"
   ]
  },
  {
   "cell_type": "code",
   "execution_count": 25,
   "metadata": {},
   "outputs": [
    {
     "name": "stdout",
     "output_type": "stream",
     "text": [
      "Média1: 6.5851593\n"
     ]
    }
   ],
   "source": [
    "result = np.mean(size_100000, dtype=np.float32 )\n",
    "media.append(result)\n",
    "print('Média1:',result)"
   ]
  },
  {
   "cell_type": "code",
   "execution_count": 26,
   "metadata": {},
   "outputs": [
    {
     "name": "stdout",
     "output_type": "stream",
     "text": [
      "Média1: 72.0314\n"
     ]
    }
   ],
   "source": [
    "result = np.mean(size_1000000, dtype=np.float32 )\n",
    "media.append(result)\n",
    "print('Média1:',result)"
   ]
  },
  {
   "cell_type": "code",
   "execution_count": 27,
   "metadata": {},
   "outputs": [
    {
     "name": "stdout",
     "output_type": "stream",
     "text": [
      "Média Total: 19.836817\n"
     ]
    }
   ],
   "source": [
    "print('Média Total:',np.mean(media, dtype=np.float32 ))"
   ]
  }
 ],
 "metadata": {
  "kernelspec": {
   "display_name": "Python 3",
   "language": "python",
   "name": "python3"
  },
  "language_info": {
   "codemirror_mode": {
    "name": "ipython",
    "version": 3
   },
   "file_extension": ".py",
   "mimetype": "text/x-python",
   "name": "python",
   "nbconvert_exporter": "python",
   "pygments_lexer": "ipython3",
   "version": "3.6.5"
  }
 },
 "nbformat": 4,
 "nbformat_minor": 1
}
