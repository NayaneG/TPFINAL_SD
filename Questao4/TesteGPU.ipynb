{
 "cells": [
  {
   "cell_type": "code",
   "execution_count": 1,
   "metadata": {},
   "outputs": [],
   "source": [
    "from numba import njit\n",
    "import numpy as np\n",
    "from math import sqrt\n",
    "import easydict\n",
    "import argparse\n",
    "import time\n",
    "from statistics import mean"
   ]
  },
  {
   "cell_type": "code",
   "execution_count": 2,
   "metadata": {},
   "outputs": [],
   "source": [
    "size_1000 = []\n",
    "size_10000 = []\n",
    "size_100000 = []\n",
    "size_1000000 = []\n",
    "media = []"
   ]
  },
  {
   "cell_type": "code",
   "execution_count": 3,
   "metadata": {},
   "outputs": [],
   "source": [
    "args = easydict.EasyDict({\n",
    "    \"batch_size\": 100,\n",
    "    \"train_steps\": 1000\n",
    "})"
   ]
  },
  {
   "cell_type": "code",
   "execution_count": 4,
   "metadata": {},
   "outputs": [],
   "source": [
    "@njit\n",
    "def kmeans(A, numCenter, numIter, N, D, init_centroids):\n",
    "    centroids = init_centroids\n",
    "\n",
    "    for l in range(numIter):\n",
    "        dist = np.array([[sqrt(np.sum((A[i,:]-centroids[j,:])**2))\n",
    "                                for j in range(numCenter)] for i in range(N)])\n",
    "        labels = np.array([dist[i,:].argmin() for i in range(N)])\n",
    "\n",
    "        centroids = np.array([[np.sum(A[labels==i, j])/np.sum(labels==i)\n",
    "                                 for j in range(D)] for i in range(numCenter)])\n",
    "\n",
    "    return centroids"
   ]
  },
  {
   "cell_type": "code",
   "execution_count": 5,
   "metadata": {},
   "outputs": [],
   "source": [
    "def rodando():\n",
    "    np.random.seed(0)\n",
    "    init_centroids = np.random.ranf((centers, features))\n",
    "    kmeans(np.random.ranf((3000, features)), centers, 1, 3000, features, init_centroids)\n",
    "    #print(\"size:\", size)\n",
    "    A = np.random.ranf((size, features))\n",
    "\n",
    "    t1 = time.time()\n",
    "    res = kmeans(A, centers, iterations, size, features, init_centroids)\n",
    "    #print(res)\n",
    "    t = time.time()-t1\n",
    "    return t"
   ]
  },
  {
   "cell_type": "markdown",
   "metadata": {},
   "source": [
    "------------**Size = 1000**------------"
   ]
  },
  {
   "cell_type": "code",
   "execution_count": 6,
   "metadata": {},
   "outputs": [
    {
     "name": "stdout",
     "output_type": "stream",
     "text": [
      "0.06417107582092285\n",
      "0.06417131423950195\n",
      "0.06216573715209961\n",
      "0.06419730186462402\n",
      "0.06416845321655273\n",
      "0.06419825553894043\n",
      "0.06918668746948242\n",
      "0.06416511535644531\n",
      "0.06417107582092285\n",
      "0.06617593765258789\n"
     ]
    }
   ],
   "source": [
    "size = 1000\n",
    "features = 2\n",
    "centers = 5\n",
    "iterations = 100\n",
    "for i in range(10):\n",
    "    rodada = rodando()\n",
    "    print(rodada)\n",
    "    size_1000.append(rodada)"
   ]
  },
  {
   "cell_type": "markdown",
   "metadata": {},
   "source": [
    "------------**Size = 10000**------------"
   ]
  },
  {
   "cell_type": "code",
   "execution_count": 7,
   "metadata": {},
   "outputs": [
    {
     "name": "stdout",
     "output_type": "stream",
     "text": [
      "0.6457211971282959\n",
      "0.6487228870391846\n",
      "0.6577517986297607\n",
      "0.6437163352966309\n",
      "0.648735761642456\n",
      "0.6497218608856201\n",
      "0.651735782623291\n",
      "0.6467239856719971\n",
      "0.6477227210998535\n",
      "0.6507062911987305\n"
     ]
    }
   ],
   "source": [
    "size = 10000\n",
    "features = 2\n",
    "centers = 5\n",
    "iterations = 100\n",
    "for i in range(10):\n",
    "    rodada = rodando()\n",
    "    print(rodada)\n",
    "    size_10000.append(rodada)"
   ]
  },
  {
   "cell_type": "markdown",
   "metadata": {},
   "source": [
    "------------**Size = 10000**------------"
   ]
  },
  {
   "cell_type": "code",
   "execution_count": 8,
   "metadata": {},
   "outputs": [
    {
     "name": "stdout",
     "output_type": "stream",
     "text": [
      "6.580545425415039\n",
      "6.555476188659668\n",
      "6.584551572799683\n",
      "6.558483600616455\n",
      "6.697857618331909\n",
      "6.860258340835571\n",
      "6.85230016708374\n",
      "6.742116689682007\n",
      "6.773654937744141\n",
      "6.895384311676025\n"
     ]
    }
   ],
   "source": [
    "size = 100000\n",
    "features = 2\n",
    "centers = 5\n",
    "iterations = 100\n",
    "for i in range(10):\n",
    "    rodada = rodando()\n",
    "    print(rodada)\n",
    "    size_100000.append(rodada)"
   ]
  },
  {
   "cell_type": "markdown",
   "metadata": {},
   "source": [
    "------------**Size = 10000**------------"
   ]
  },
  {
   "cell_type": "code",
   "execution_count": 9,
   "metadata": {},
   "outputs": [
    {
     "name": "stdout",
     "output_type": "stream",
     "text": [
      "67.90249705314636\n",
      "66.41103219985962\n",
      "66.14737725257874\n",
      "66.45614886283875\n",
      "66.26266407966614\n",
      "66.36496090888977\n",
      "66.12627840042114\n",
      "66.0119948387146\n",
      "66.3488917350769\n",
      "66.04912090301514\n"
     ]
    }
   ],
   "source": [
    "size = 1000000\n",
    "features = 2\n",
    "centers = 5\n",
    "iterations = 100\n",
    "for i in range(10):\n",
    "    rodada = rodando()\n",
    "    print(rodada)\n",
    "    size_1000000.append(rodada)"
   ]
  },
  {
   "cell_type": "code",
   "execution_count": 10,
   "metadata": {},
   "outputs": [
    {
     "name": "stdout",
     "output_type": "stream",
     "text": [
      "Média1: 0.0646771\n"
     ]
    }
   ],
   "source": [
    "result = np.mean(size_1000, dtype=np.float32 )\n",
    "media.append(result)\n",
    "print('Média1:',result)"
   ]
  },
  {
   "cell_type": "code",
   "execution_count": 11,
   "metadata": {},
   "outputs": [
    {
     "name": "stdout",
     "output_type": "stream",
     "text": [
      "Média1: 0.6491259\n"
     ]
    }
   ],
   "source": [
    "result = np.mean(size_10000, dtype=np.float32 )\n",
    "media.append(result)\n",
    "print('Média1:',result)"
   ]
  },
  {
   "cell_type": "code",
   "execution_count": 12,
   "metadata": {},
   "outputs": [
    {
     "name": "stdout",
     "output_type": "stream",
     "text": [
      "Média1: 6.710063\n"
     ]
    }
   ],
   "source": [
    "result = np.mean(size_100000, dtype=np.float32 )\n",
    "media.append(result)\n",
    "print('Média1:',result)"
   ]
  },
  {
   "cell_type": "code",
   "execution_count": 13,
   "metadata": {},
   "outputs": [
    {
     "name": "stdout",
     "output_type": "stream",
     "text": [
      "Média1: 66.4081\n"
     ]
    }
   ],
   "source": [
    "result = np.mean(size_1000000, dtype=np.float32 )\n",
    "media.append(result)\n",
    "print('Média1:',result)"
   ]
  },
  {
   "cell_type": "code",
   "execution_count": 14,
   "metadata": {},
   "outputs": [
    {
     "name": "stdout",
     "output_type": "stream",
     "text": [
      "Média Total: 18.45799\n"
     ]
    }
   ],
   "source": [
    "print('Média Total:',np.mean(media, dtype=np.float32 ))"
   ]
  }
 ],
 "metadata": {
  "kernelspec": {
   "display_name": "Python 3",
   "language": "python",
   "name": "python3"
  },
  "language_info": {
   "codemirror_mode": {
    "name": "ipython",
    "version": 3
   },
   "file_extension": ".py",
   "mimetype": "text/x-python",
   "name": "python",
   "nbconvert_exporter": "python",
   "pygments_lexer": "ipython3",
   "version": "3.6.5"
  }
 },
 "nbformat": 4,
 "nbformat_minor": 1
}
