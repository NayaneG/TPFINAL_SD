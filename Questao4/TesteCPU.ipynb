{
 "cells": [
  {
   "cell_type": "code",
   "execution_count": 1,
   "metadata": {},
   "outputs": [],
   "source": [
    "from numba import njit\n",
    "import numpy as np\n",
    "from math import sqrt\n",
    "import easydict\n",
    "import argparse\n",
    "import time\n",
    "from statistics import mean"
   ]
  },
  {
   "cell_type": "code",
   "execution_count": 2,
   "metadata": {},
   "outputs": [],
   "source": [
    "size_1000 = []\n",
    "size_10000 = []\n",
    "size_100000 = []\n",
    "size_1000000 = []\n",
    "media = []"
   ]
  },
  {
   "cell_type": "code",
   "execution_count": 3,
   "metadata": {},
   "outputs": [],
   "source": [
    "args = easydict.EasyDict({\n",
    "    \"batch_size\": 100,\n",
    "    \"train_steps\": 1000\n",
    "})"
   ]
  },
  {
   "cell_type": "code",
   "execution_count": 4,
   "metadata": {},
   "outputs": [],
   "source": [
    "def kmeans(A, numCenter, numIter, N, D, init_centroids):\n",
    "    centroids = init_centroids\n",
    "\n",
    "    for l in range(numIter):\n",
    "        dist = np.array([[sqrt(np.sum((A[i,:]-centroids[j,:])**2))\n",
    "                                for j in range(numCenter)] for i in range(N)])\n",
    "        labels = np.array([dist[i,:].argmin() for i in range(N)])\n",
    "\n",
    "        centroids = np.array([[np.sum(A[labels==i, j])/np.sum(labels==i)\n",
    "                                 for j in range(D)] for i in range(numCenter)])\n",
    "\n",
    "    return centroids"
   ]
  },
  {
   "cell_type": "code",
   "execution_count": 5,
   "metadata": {},
   "outputs": [],
   "source": [
    "def rodando():\n",
    "    np.random.seed(0)\n",
    "    init_centroids = np.random.ranf((centers, features))\n",
    "    kmeans(np.random.ranf((3000, features)), centers, 1, 3000, features, init_centroids)\n",
    "    #print(\"size:\", size)\n",
    "    A = np.random.ranf((size, features))\n",
    "\n",
    "    t1 = time.time()\n",
    "    res = kmeans(A, centers, iterations, size, features, init_centroids)\n",
    "    #print(res)\n",
    "    t = time.time()-t1\n",
    "    return t"
   ]
  },
  {
   "cell_type": "markdown",
   "metadata": {},
   "source": [
    "------------**Size = 1000**------------"
   ]
  },
  {
   "cell_type": "code",
   "execution_count": 6,
   "metadata": {},
   "outputs": [
    {
     "name": "stdout",
     "output_type": "stream",
     "text": [
      "2.1476998329162598\n",
      "2.0845489501953125\n",
      "2.059462547302246\n",
      "2.055478572845459\n",
      "2.0334174633026123\n",
      "2.0394375324249268\n",
      "2.030385971069336\n",
      "2.0223655700683594\n",
      "2.0474588871002197\n",
      "2.026402711868286\n"
     ]
    }
   ],
   "source": [
    "size = 1000\n",
    "features = 2\n",
    "centers = 5\n",
    "iterations = 100\n",
    "for i in range(10):\n",
    "    rodada = rodando()\n",
    "    print(rodada)\n",
    "    size_1000.append(rodada)"
   ]
  },
  {
   "cell_type": "markdown",
   "metadata": {},
   "source": [
    "------------**Size = 10000**------------"
   ]
  },
  {
   "cell_type": "code",
   "execution_count": 7,
   "metadata": {},
   "outputs": [
    {
     "name": "stdout",
     "output_type": "stream",
     "text": [
      "20.486618995666504\n",
      "21.203503131866455\n",
      "21.20731806755066\n",
      "20.932559490203857\n",
      "20.256981134414673\n",
      "20.956611394882202\n",
      "20.217909336090088\n",
      "20.094571590423584\n",
      "20.11459994316101\n",
      "20.056472539901733\n"
     ]
    }
   ],
   "source": [
    "size = 10000\n",
    "features = 2\n",
    "centers = 5\n",
    "iterations = 100\n",
    "for i in range(10):\n",
    "    rodada = rodando()\n",
    "    print(rodada)\n",
    "    size_10000.append(rodada)"
   ]
  },
  {
   "cell_type": "markdown",
   "metadata": {},
   "source": [
    "------------**Size = 10000**------------"
   ]
  },
  {
   "cell_type": "code",
   "execution_count": 8,
   "metadata": {},
   "outputs": [
    {
     "name": "stdout",
     "output_type": "stream",
     "text": [
      "203.72819185256958\n",
      "202.33244228363037\n",
      "201.44203853607178\n",
      "200.83132815361023\n",
      "198.5600655078888\n",
      "200.22519254684448\n",
      "201.26940417289734\n",
      "199.60613489151\n",
      "201.3738889694214\n",
      "200.45464539527893\n"
     ]
    }
   ],
   "source": [
    "size = 100000\n",
    "features = 2\n",
    "centers = 5\n",
    "iterations = 100\n",
    "for i in range(10):\n",
    "    rodada = rodando()\n",
    "    print(rodada)\n",
    "    size_100000.append(rodada)"
   ]
  },
  {
   "cell_type": "markdown",
   "metadata": {},
   "source": [
    "------------**Size = 10000**------------"
   ]
  },
  {
   "cell_type": "code",
   "execution_count": 9,
   "metadata": {},
   "outputs": [
    {
     "name": "stdout",
     "output_type": "stream",
     "text": [
      "2016.0713565349579\n",
      "2009.5160851478577\n",
      "2018.8912649154663\n",
      "2031.5227210521698\n",
      "2041.1102368831635\n",
      "2033.7530286312103\n",
      "2017.396722793579\n",
      "2020.8550980091095\n",
      "2025.672390460968\n",
      "2029.6703372001648\n"
     ]
    }
   ],
   "source": [
    "size = 1000000\n",
    "features = 2\n",
    "centers = 5\n",
    "iterations = 100\n",
    "for i in range(10):\n",
    "    rodada = rodando()\n",
    "    print(rodada)\n",
    "    size_1000000.append(rodada)"
   ]
  },
  {
   "cell_type": "code",
   "execution_count": 10,
   "metadata": {},
   "outputs": [
    {
     "name": "stdout",
     "output_type": "stream",
     "text": [
      "Média1: 2.054666\n"
     ]
    }
   ],
   "source": [
    "result = np.mean(size_1000, dtype=np.float32 )\n",
    "media.append(result)\n",
    "print('Média1:',result)"
   ]
  },
  {
   "cell_type": "code",
   "execution_count": 11,
   "metadata": {},
   "outputs": [
    {
     "name": "stdout",
     "output_type": "stream",
     "text": [
      "Média1: 20.552715\n"
     ]
    }
   ],
   "source": [
    "result = np.mean(size_10000, dtype=np.float32 )\n",
    "media.append(result)\n",
    "print('Média1:',result)"
   ]
  },
  {
   "cell_type": "code",
   "execution_count": 12,
   "metadata": {},
   "outputs": [
    {
     "name": "stdout",
     "output_type": "stream",
     "text": [
      "Média1: 200.98233\n"
     ]
    }
   ],
   "source": [
    "result = np.mean(size_100000, dtype=np.float32 )\n",
    "media.append(result)\n",
    "print('Média1:',result)"
   ]
  },
  {
   "cell_type": "code",
   "execution_count": 13,
   "metadata": {},
   "outputs": [
    {
     "name": "stdout",
     "output_type": "stream",
     "text": [
      "Média1: 2024.4459\n"
     ]
    }
   ],
   "source": [
    "result = np.mean(size_1000000, dtype=np.float32 )\n",
    "media.append(result)\n",
    "print('Média1:',result)"
   ]
  },
  {
   "cell_type": "code",
   "execution_count": 14,
   "metadata": {},
   "outputs": [
    {
     "name": "stdout",
     "output_type": "stream",
     "text": [
      "Média Total: 562.0089\n"
     ]
    }
   ],
   "source": [
    "print('Média Total:',np.mean(media, dtype=np.float32 ))"
   ]
  },
  {
   "cell_type": "code",
   "execution_count": null,
   "metadata": {},
   "outputs": [],
   "source": []
  }
 ],
 "metadata": {
  "kernelspec": {
   "display_name": "Python 3",
   "language": "python",
   "name": "python3"
  },
  "language_info": {
   "codemirror_mode": {
    "name": "ipython",
    "version": 3
   },
   "file_extension": ".py",
   "mimetype": "text/x-python",
   "name": "python",
   "nbconvert_exporter": "python",
   "pygments_lexer": "ipython3",
   "version": "3.6.5"
  }
 },
 "nbformat": 4,
 "nbformat_minor": 1
}
