{
 "cells": [
  {
   "cell_type": "code",
   "execution_count": 1,
   "metadata": {},
   "outputs": [],
   "source": [
    "from numba import njit\n",
    "import numpy as np\n",
    "from math import sqrt\n",
    "import easydict\n",
    "import argparse\n",
    "import time\n",
    "from statistics import mean"
   ]
  },
  {
   "cell_type": "code",
   "execution_count": 2,
   "metadata": {},
   "outputs": [],
   "source": [
    "size_1000 = []\n",
    "size_10000 = []\n",
    "size_100000 = []\n",
    "size_1000000 = []\n",
    "media = []"
   ]
  },
  {
   "cell_type": "code",
   "execution_count": 3,
   "metadata": {},
   "outputs": [],
   "source": [
    "args = easydict.EasyDict({\n",
    "    \"batch_size\": 100,\n",
    "    \"train_steps\": 1000\n",
    "})"
   ]
  },
  {
   "cell_type": "code",
   "execution_count": 4,
   "metadata": {},
   "outputs": [],
   "source": [
    "def kmeans(A, numCenter, numIter, N, D, init_centroids):\n",
    "    centroids = init_centroids\n",
    "\n",
    "    for l in range(numIter):\n",
    "        dist = np.array([[sqrt(np.sum((A[i,:]-centroids[j,:])**2))\n",
    "                                for j in range(numCenter)] for i in range(N)])\n",
    "        labels = np.array([dist[i,:].argmin() for i in range(N)])\n",
    "\n",
    "        centroids = np.array([[np.sum(A[labels==i, j])/np.sum(labels==i)\n",
    "                                 for j in range(D)] for i in range(numCenter)])\n",
    "\n",
    "    return centroids"
   ]
  },
  {
   "cell_type": "code",
   "execution_count": 5,
   "metadata": {},
   "outputs": [],
   "source": [
    "def rodando():\n",
    "    np.random.seed(0)\n",
    "    init_centroids = np.random.ranf((centers, features))\n",
    "    kmeans(np.random.ranf((3000, features)), centers, 1, 3000, features, init_centroids)\n",
    "    #print(\"size:\", size)\n",
    "    A = np.random.ranf((size, features))\n",
    "\n",
    "    t1 = time.time()\n",
    "    res = kmeans(A, centers, iterations, size, features, init_centroids)\n",
    "    #print(res)\n",
    "    t = time.time()-t1\n",
    "    return t"
   ]
  },
  {
   "cell_type": "markdown",
   "metadata": {},
   "source": [
    "------------**Size = 1000**------------"
   ]
  },
  {
   "cell_type": "code",
   "execution_count": 6,
   "metadata": {},
   "outputs": [
    {
     "name": "stdout",
     "output_type": "stream",
     "text": [
      "2.057476043701172\n",
      "2.0263593196868896\n",
      "2.060483694076538\n",
      "2.051426410675049\n",
      "2.0414252281188965\n",
      "2.0554704666137695\n",
      "2.024385929107666\n",
      "2.036417245864868\n",
      "2.052459239959717\n",
      "2.0464437007904053\n"
     ]
    }
   ],
   "source": [
    "size = 1000\n",
    "features = 2\n",
    "centers = 5\n",
    "iterations = 100\n",
    "for i in range(10):\n",
    "    rodada = rodando()\n",
    "    print(rodada)\n",
    "    size_1000.append(rodada)"
   ]
  },
  {
   "cell_type": "markdown",
   "metadata": {},
   "source": [
    "------------**Size = 10000**------------"
   ]
  },
  {
   "cell_type": "code",
   "execution_count": 7,
   "metadata": {},
   "outputs": [
    {
     "name": "stdout",
     "output_type": "stream",
     "text": [
      "20.685036182403564\n",
      "20.36414098739624\n",
      "20.452495098114014\n",
      "20.338330030441284\n",
      "20.409300327301025\n",
      "20.39432382583618\n",
      "20.328328847885132\n",
      "20.416304111480713\n",
      "21.34739589691162\n"
     ]
    }
   ],
   "source": [
    "size = 10000\n",
    "features = 2\n",
    "centers = 5\n",
    "iterations = 100\n",
    "for i in range(9):\n",
    "    rodada = rodando()\n",
    "    print(rodada)\n",
    "    size_10000.append(rodada)"
   ]
  },
  {
   "cell_type": "markdown",
   "metadata": {},
   "source": [
    "------------**Size = 10000**------------"
   ]
  },
  {
   "cell_type": "code",
   "execution_count": 8,
   "metadata": {},
   "outputs": [
    {
     "name": "stdout",
     "output_type": "stream",
     "text": [
      "222.71733140945435\n",
      "216.79788208007812\n",
      "224.5175793170929\n",
      "217.28215956687927\n",
      "216.93663954734802\n",
      "217.5771291255951\n",
      "217.50986909866333\n",
      "221.13768768310547\n",
      "220.34909105300903\n"
     ]
    }
   ],
   "source": [
    "size = 100000\n",
    "features = 2\n",
    "centers = 5\n",
    "iterations = 100\n",
    "for i in range(9):\n",
    "    rodada = rodando()\n",
    "    print(rodada)\n",
    "    size_100000.append(rodada)"
   ]
  },
  {
   "cell_type": "markdown",
   "metadata": {},
   "source": [
    "------------**Size = 10000**------------"
   ]
  },
  {
   "cell_type": "code",
   "execution_count": null,
   "metadata": {},
   "outputs": [],
   "source": [
    "size = 1000000\n",
    "features = 2\n",
    "centers = 5\n",
    "iterations = 100\n",
    "for i in range(9):\n",
    "    rodada = rodando()\n",
    "    print(rodada)\n",
    "    size_1000000.append(rodada)"
   ]
  },
  {
   "cell_type": "code",
   "execution_count": null,
   "metadata": {},
   "outputs": [],
   "source": [
    "result = np.mean(size_1000, dtype=np.float32 )\n",
    "media.append(result)\n",
    "print('Média1:',result)"
   ]
  },
  {
   "cell_type": "code",
   "execution_count": null,
   "metadata": {},
   "outputs": [],
   "source": [
    "result = np.mean(size_10000, dtype=np.float32 )\n",
    "media.append(result)\n",
    "print('Média1:',result)"
   ]
  },
  {
   "cell_type": "code",
   "execution_count": null,
   "metadata": {},
   "outputs": [],
   "source": [
    "result = np.mean(size_100000, dtype=np.float32 )\n",
    "media.append(result)\n",
    "print('Média1:',result)"
   ]
  },
  {
   "cell_type": "code",
   "execution_count": null,
   "metadata": {},
   "outputs": [],
   "source": [
    "result = np.mean(size_1000000, dtype=np.float32 )\n",
    "media.append(result)\n",
    "print('Média1:',result)"
   ]
  },
  {
   "cell_type": "code",
   "execution_count": null,
   "metadata": {},
   "outputs": [],
   "source": [
    "print('Média Total:',np.mean(media, dtype=np.float32 ))"
   ]
  }
 ],
 "metadata": {
  "kernelspec": {
   "display_name": "Python 3",
   "language": "python",
   "name": "python3"
  },
  "language_info": {
   "codemirror_mode": {
    "name": "ipython",
    "version": 3
   },
   "file_extension": ".py",
   "mimetype": "text/x-python",
   "name": "python",
   "nbconvert_exporter": "python",
   "pygments_lexer": "ipython3",
   "version": "3.6.5"
  }
 },
 "nbformat": 4,
 "nbformat_minor": 1
}
